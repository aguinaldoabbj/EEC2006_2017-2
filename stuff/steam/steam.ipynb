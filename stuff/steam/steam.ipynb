{
 "cells": [
  {
   "cell_type": "code",
   "execution_count": 207,
   "metadata": {
    "collapsed": true
   },
   "outputs": [],
   "source": [
    "import pandas as pd\n",
    "import ast"
   ]
  },
  {
   "cell_type": "code",
   "execution_count": 175,
   "metadata": {
    "collapsed": true
   },
   "outputs": [],
   "source": [
    "df = pd.read_csv(\"games-features.csv\")"
   ]
  },
  {
   "cell_type": "code",
   "execution_count": 189,
   "metadata": {},
   "outputs": [
    {
     "data": {
      "text/plain": [
       "(13357, 78)"
      ]
     },
     "execution_count": 189,
     "metadata": {},
     "output_type": "execute_result"
    }
   ],
   "source": [
    "df.shape"
   ]
  },
  {
   "cell_type": "code",
   "execution_count": 195,
   "metadata": {},
   "outputs": [
    {
     "data": {
      "text/plain": [
       "78"
      ]
     },
     "execution_count": 195,
     "metadata": {},
     "output_type": "execute_result"
    }
   ],
   "source": [
    "len(df.columns)"
   ]
  },
  {
   "cell_type": "code",
   "execution_count": 176,
   "metadata": {},
   "outputs": [
    {
     "data": {
      "text/plain": [
       "QueryID                        0\n",
       "ResponseID                     0\n",
       "QueryName                      1\n",
       "ResponseName                   0\n",
       "ReleaseDate                    0\n",
       "RequiredAge                    0\n",
       "DemoCount                      0\n",
       "DeveloperCount                 0\n",
       "DLCCount                       0\n",
       "Metacritic                     0\n",
       "MovieCount                     0\n",
       "PackageCount                   0\n",
       "RecommendationCount            0\n",
       "PublisherCount                 0\n",
       "ScreenshotCount                0\n",
       "SteamSpyOwners                 0\n",
       "SteamSpyOwnersVariance         0\n",
       "SteamSpyPlayersEstimate        0\n",
       "SteamSpyPlayersVariance        0\n",
       "AchievementCount               0\n",
       "AchievementHighlightedCount    0\n",
       "ControllerSupport              0\n",
       "IsFree                         0\n",
       "FreeVerAvail                   0\n",
       "PurchaseAvail                  0\n",
       "SubscriptionAvail              0\n",
       "PlatformWindows                0\n",
       "PlatformLinux                  0\n",
       "PlatformMac                    0\n",
       "PCReqsHaveMin                  0\n",
       "                              ..\n",
       "GenreIsStrategy                0\n",
       "GenreIsRPG                     0\n",
       "GenreIsSimulation              0\n",
       "GenreIsEarlyAccess             0\n",
       "GenreIsFreeToPlay              0\n",
       "GenreIsSports                  0\n",
       "GenreIsRacing                  0\n",
       "GenreIsMassivelyMultiplayer    0\n",
       "PriceCurrency                  0\n",
       "PriceInitial                   0\n",
       "PriceFinal                     0\n",
       "SupportEmail                   0\n",
       "SupportURL                     1\n",
       "AboutText                      0\n",
       "Background                     0\n",
       "ShortDescrip                   0\n",
       "DetailedDescrip                0\n",
       "DRMNotice                      0\n",
       "ExtUserAcctNotice              0\n",
       "HeaderImage                    0\n",
       "LegalNotice                    1\n",
       "Reviews                        0\n",
       "SupportedLanguages             0\n",
       "Website                        0\n",
       "PCMinReqsText                  0\n",
       "PCRecReqsText                  0\n",
       "LinuxMinReqsText               0\n",
       "LinuxRecReqsText               0\n",
       "MacMinReqsText                 0\n",
       "MacRecReqsText                 0\n",
       "Length: 78, dtype: int64"
      ]
     },
     "execution_count": 176,
     "metadata": {},
     "output_type": "execute_result"
    }
   ],
   "source": [
    "df.isnull().sum()"
   ]
  },
  {
   "cell_type": "code",
   "execution_count": 187,
   "metadata": {},
   "outputs": [],
   "source": [
    "genre_cols = [c for c in df.columns if not c.find(\"GenreIs\")]"
   ]
  },
  {
   "cell_type": "code",
   "execution_count": 197,
   "metadata": {
    "collapsed": true
   },
   "outputs": [],
   "source": [
    "genres = []\n",
    "for column in genre_cols:\n",
    "    genres.append(column.split('GenreIs')[1])"
   ]
  },
  {
   "cell_type": "code",
   "execution_count": 198,
   "metadata": {},
   "outputs": [],
   "source": [
    "genre_dict = dict(zip(genres,range(0,len(genres))))"
   ]
  },
  {
   "cell_type": "code",
   "execution_count": 226,
   "metadata": {},
   "outputs": [],
   "source": [
    "new_genre_column = []\n",
    "for column in df[genre_cols].columns:\n",
    "    for row in df[column].values:\n",
    "        if str(row).strip():\n",
    "            new_genre_column.append(column.split('GenreIs')[1])"
   ]
  },
  {
   "cell_type": "code",
   "execution_count": 280,
   "metadata": {},
   "outputs": [
    {
     "ename": "SyntaxError",
     "evalue": "unexpected EOF while parsing (<ipython-input-280-9b566ba1eff0>, line 4)",
     "output_type": "error",
     "traceback": [
      "\u001b[0;36m  File \u001b[0;32m\"<ipython-input-280-9b566ba1eff0>\"\u001b[0;36m, line \u001b[0;32m4\u001b[0m\n\u001b[0;31m    \u001b[0m\n\u001b[0m    ^\u001b[0m\n\u001b[0;31mSyntaxError\u001b[0m\u001b[0;31m:\u001b[0m unexpected EOF while parsing\n"
     ]
    }
   ],
   "source": [
    "for row in df[genre_cols].iterrows():\n",
    "    \n",
    "    \n",
    "    "
   ]
  },
  {
   "cell_type": "code",
   "execution_count": 279,
   "metadata": {},
   "outputs": [
    {
     "data": {
      "text/plain": [
       "<function tuple.count>"
      ]
     },
     "execution_count": 279,
     "metadata": {},
     "output_type": "execute_result"
    }
   ],
   "source": [
    "row.count"
   ]
  },
  {
   "cell_type": "code",
   "execution_count": 274,
   "metadata": {},
   "outputs": [
    {
     "name": "stdout",
     "output_type": "stream",
     "text": [
      "<built-in method index of Pandas object at 0x7fe75d662828>\n"
     ]
    }
   ],
   "source": [
    "print(test)"
   ]
  },
  {
   "cell_type": "code",
   "execution_count": 248,
   "metadata": {},
   "outputs": [],
   "source": [
    "drop_genreis = [c for c in df.columns if c.find(\"GenreIs\")]"
   ]
  },
  {
   "cell_type": "code",
   "execution_count": 247,
   "metadata": {},
   "outputs": [],
   "source": [
    "steam_df = df[drop_genreis]"
   ]
  },
  {
   "cell_type": "code",
   "execution_count": null,
   "metadata": {
    "collapsed": true
   },
   "outputs": [],
   "source": [
    "featured_cols = [\"ResponseName\",\n",
    "                 \"ReleaseDate\",\n",
    "                 \"RequiredAge\",\n",
    "                 \"DLCCount\",\n",
    "                 \"Metacritic\",\n",
    "                 \"MovieCount\",\n",
    "                 \"RecommendationCount\",\n",
    "                 \"ScreenshotCount\",\n",
    "                 \"\",\n",
    "                 \"\",\n",
    "                 \"\",\n",
    "                 \"\",\n",
    "                 \"\",]"
   ]
  }
 ],
 "metadata": {
  "kernelspec": {
   "display_name": "Python 3",
   "language": "python",
   "name": "python3"
  },
  "language_info": {
   "codemirror_mode": {
    "name": "ipython",
    "version": 3
   },
   "file_extension": ".py",
   "mimetype": "text/x-python",
   "name": "python",
   "nbconvert_exporter": "python",
   "pygments_lexer": "ipython3",
   "version": "3.6.1"
  }
 },
 "nbformat": 4,
 "nbformat_minor": 2
}
